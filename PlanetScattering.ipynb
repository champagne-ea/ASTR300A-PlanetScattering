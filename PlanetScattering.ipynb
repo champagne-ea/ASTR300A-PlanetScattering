{
 "cells": [
  {
   "cell_type": "code",
   "execution_count": 1,
   "metadata": {},
   "outputs": [],
   "source": [
    "#Goals for 10/2/19- learn matplotlib animations\n",
    "\n",
    "#We have decided on 2D\n",
    "\n",
    "import math\n",
    "\n",
    "class planet: \n",
    "    #Technically this could also be a star...\n",
    "    planets = []\n",
    "    def __init__ (self, mass, pos, vel):\n",
    "        self.mass = mass\n",
    "        self.pos = pos\n",
    "        self.vel = vel\n",
    "        self.acc = [0,0,0] #2D or 3D?\n",
    "        planet.planets.append(self)\n",
    "    def accel (self):\n",
    "        print(\"Acceleration\")\n",
    "    def veloc (self):\n",
    "        for i in range(3):\n",
    "            self.vel[i] += self.acc[i]\n",
    "    def posit (self):\n",
    "        for i in range(3):\n",
    "            self.pos[i] += self.vel[i]\n",
    "    def draw (self):\n",
    "        print(\"Draw\")\n",
    "    @staticmethod\n",
    "    def resetArray():\n",
    "        planet.planets = []\n",
    "    @staticmethod\n",
    "    def distBetween(p1,p2):\n",
    "        dist = math.sqrt((p1.pos[0]-p2.pos[0])*(p1.pos[0]-p2.pos[0])+(p1.pos[1]-p2.pos[1])*(p1.pos[1]-p2.pos[1])+(p1.pos[2]-p2.pos[2])*(p1.pos[2]-p2.pos[2]))\n",
    "        return dist\n",
    "    @staticmethod\n",
    "    def drawAll():\n",
    "        for i in planet.planets:\n",
    "            i.draw\n",
    "    @staticmethod\n",
    "    def positAll():\n",
    "        for i in planet.planets:\n",
    "            i.posit()\n",
    "    @staticmethod\n",
    "    def velocAll():\n",
    "        for i in planet.planets:\n",
    "            i.veloc()\n",
    "    @staticmethod\n",
    "    def accelAll():\n",
    "        for i in planet.planets:\n",
    "            i.accel()\n",
    "    @staticmethod\n",
    "    def stepAll():\n",
    "        planet.accelAll()\n",
    "        planet.velocAll()\n",
    "        planet.positAll()\n",
    "        planet.drawAll()\n",
    "    \n",
    "    #should we go the phi or direct force way? phi allows for test particles - would need to evaluate at each position BEFORE moving planets around\n",
    "    #although I don't know how to find the gradient of a function like that\n",
    "    #How about a compromise- use the force formula, but don't multiply by self.mass, so you get acceleration\n",
    "    \n",
    "#Other decisions - 2 or 3D? hard to draw in 3D"
   ]
  },
  {
   "cell_type": "code",
   "execution_count": 6,
   "metadata": {},
   "outputs": [
    {
     "name": "stdout",
     "output_type": "stream",
     "text": [
      "[<__main__.planet object at 0x0000022F8A2F5EB8>, <__main__.planet object at 0x0000022F8A2F5EF0>]\n",
      "[2, 2, 0]\n",
      "[5, -2, 0]\n",
      "5.0\n",
      "[5, 5, 0]\n"
     ]
    }
   ],
   "source": [
    "planet.resetArray()\n",
    "jup = planet(1,[2,2,0],[3,3,0])\n",
    "earth = planet(2,[5,-2,0],[1,2,0])\n",
    "print(planet.planets)\n",
    "for i in planet.planets:\n",
    "    print(i.pos)\n",
    "print(str(planet.distBetween(earth,jup)))\n",
    "#jup.veloc()\n",
    "jup.posit()\n",
    "print(str(jup.pos))"
   ]
  }
 ],
 "metadata": {
  "kernelspec": {
   "display_name": "Python 3",
   "language": "python",
   "name": "python3"
  },
  "language_info": {
   "codemirror_mode": {
    "name": "ipython",
    "version": 3
   },
   "file_extension": ".py",
   "mimetype": "text/x-python",
   "name": "python",
   "nbconvert_exporter": "python",
   "pygments_lexer": "ipython3",
   "version": "3.7.2"
  }
 },
 "nbformat": 4,
 "nbformat_minor": 2
}
